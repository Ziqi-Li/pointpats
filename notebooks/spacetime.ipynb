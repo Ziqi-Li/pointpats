{
 "cells": [
  {
   "cell_type": "code",
   "execution_count": 1,
   "id": "cedb45a1-df8c-4a1d-96b0-b48c92b4f55e",
   "metadata": {},
   "outputs": [],
   "source": [
    "%load_ext autoreload\n",
    "%autoreload 2"
   ]
  },
  {
   "cell_type": "code",
   "execution_count": 2,
   "id": "551458d6-3d47-463a-8045-c2fe7574a3c0",
   "metadata": {},
   "outputs": [
    {
     "name": "stderr",
     "output_type": "stream",
     "text": [
      "/home/serge/mambaforge/envs/pointpats/lib/python3.11/site-packages/libpysal/cg/alpha_shapes.py:38: NumbaDeprecationWarning: The 'nopython' keyword argument was not supplied to the 'numba.jit' decorator. The implicit default value for this argument is currently False, but it will be changed to True in Numba 0.59.0. See https://numba.readthedocs.io/en/stable/reference/deprecation.html#deprecation-of-object-mode-fall-back-behaviour-when-using-jit for details.\n",
      "  @jit\n",
      "/home/serge/mambaforge/envs/pointpats/lib/python3.11/site-packages/libpysal/cg/alpha_shapes.py:164: NumbaDeprecationWarning: The 'nopython' keyword argument was not supplied to the 'numba.jit' decorator. The implicit default value for this argument is currently False, but it will be changed to True in Numba 0.59.0. See https://numba.readthedocs.io/en/stable/reference/deprecation.html#deprecation-of-object-mode-fall-back-behaviour-when-using-jit for details.\n",
      "  @jit\n",
      "/home/serge/mambaforge/envs/pointpats/lib/python3.11/site-packages/libpysal/cg/alpha_shapes.py:198: NumbaDeprecationWarning: The 'nopython' keyword argument was not supplied to the 'numba.jit' decorator. The implicit default value for this argument is currently False, but it will be changed to True in Numba 0.59.0. See https://numba.readthedocs.io/en/stable/reference/deprecation.html#deprecation-of-object-mode-fall-back-behaviour-when-using-jit for details.\n",
      "  @jit\n",
      "/home/serge/mambaforge/envs/pointpats/lib/python3.11/site-packages/libpysal/cg/alpha_shapes.py:260: NumbaDeprecationWarning: The 'nopython' keyword argument was not supplied to the 'numba.jit' decorator. The implicit default value for this argument is currently False, but it will be changed to True in Numba 0.59.0. See https://numba.readthedocs.io/en/stable/reference/deprecation.html#deprecation-of-object-mode-fall-back-behaviour-when-using-jit for details.\n",
      "  @jit\n"
     ]
    }
   ],
   "source": [
    "import pointpats"
   ]
  },
  {
   "cell_type": "code",
   "execution_count": 3,
   "id": "62f68eb2-cd64-426b-977b-76abd77b2349",
   "metadata": {},
   "outputs": [],
   "source": [
    "import libpysal"
   ]
  },
  {
   "cell_type": "code",
   "execution_count": 4,
   "id": "5c4b19f6-150a-40c8-8022-aab086332ca6",
   "metadata": {},
   "outputs": [],
   "source": [
    "path = libpysal.examples.get_path('burkitt.shp')"
   ]
  },
  {
   "cell_type": "code",
   "execution_count": 5,
   "id": "b68cc670-4ee3-4d34-9c32-f1b998b2aef5",
   "metadata": {},
   "outputs": [],
   "source": [
    "from pointpats import SpaceTimeEvents, knox"
   ]
  },
  {
   "cell_type": "code",
   "execution_count": 6,
   "id": "c6b1ec6b-63a9-43bd-9d19-f02678249722",
   "metadata": {},
   "outputs": [
    {
     "name": "stderr",
     "output_type": "stream",
     "text": [
      "/home/serge/mambaforge/envs/pointpats/lib/python3.11/site-packages/libpysal/cg/shapes.py:103: FutureWarning: Objects based on the `Geometry` class will deprecated and removed in a future version of libpysal.\n",
      "  warnings.warn(dep_msg, FutureWarning)\n"
     ]
    }
   ],
   "source": [
    "events = SpaceTimeEvents(path, 'T')"
   ]
  },
  {
   "cell_type": "code",
   "execution_count": 7,
   "id": "20b15e1b-1c37-4e8e-99fc-a65904c1c84a",
   "metadata": {},
   "outputs": [
    {
     "data": {
      "text/plain": [
       "<pointpats.spacetime.SpaceTimeEvents at 0x7fc7a5925050>"
      ]
     },
     "execution_count": 7,
     "metadata": {},
     "output_type": "execute_result"
    }
   ],
   "source": [
    "events"
   ]
  },
  {
   "cell_type": "code",
   "execution_count": 8,
   "id": "195767a0-1381-47ad-92be-6c94c7513969",
   "metadata": {},
   "outputs": [],
   "source": [
    "import numpy"
   ]
  },
  {
   "cell_type": "code",
   "execution_count": 9,
   "id": "e74a1d48-bb41-48a1-be1d-8a62776235d7",
   "metadata": {},
   "outputs": [
    {
     "data": {
      "text/plain": [
       "\u001b[0;31mSignature:\u001b[0m \u001b[0mknox\u001b[0m\u001b[0;34m(\u001b[0m\u001b[0ms_coords\u001b[0m\u001b[0;34m,\u001b[0m \u001b[0mt_coords\u001b[0m\u001b[0;34m,\u001b[0m \u001b[0mdelta\u001b[0m\u001b[0;34m,\u001b[0m \u001b[0mtau\u001b[0m\u001b[0;34m,\u001b[0m \u001b[0mpermutations\u001b[0m\u001b[0;34m=\u001b[0m\u001b[0;36m99\u001b[0m\u001b[0;34m,\u001b[0m \u001b[0mdebug\u001b[0m\u001b[0;34m=\u001b[0m\u001b[0;32mFalse\u001b[0m\u001b[0;34m)\u001b[0m\u001b[0;34m\u001b[0m\u001b[0;34m\u001b[0m\u001b[0m\n",
       "\u001b[0;31mDocstring:\u001b[0m\n",
       "Knox test for spatio-temporal interaction. :cite:`Knox:1964`\n",
       "\n",
       "Parameters\n",
       "----------\n",
       "s_coords        : array\n",
       "                  (n, 2), spatial coordinates.\n",
       "t_coords        : array\n",
       "                  (n, 1), temporal coordinates.\n",
       "delta           : float\n",
       "                  threshold for proximity in space.\n",
       "tau             : float\n",
       "                  threshold for proximity in time.\n",
       "permutations    : int, optional\n",
       "                  the number of permutations used to establish pseudo-\n",
       "                  significance (the default is 99).\n",
       "debug           : bool, optional\n",
       "                  if true, debugging information is printed (the default is\n",
       "                  False).\n",
       "\n",
       "Returns\n",
       "-------\n",
       "knox_result     : dictionary\n",
       "                  contains the statistic (stat) for the test and the\n",
       "                  associated p-value (pvalue).\n",
       "stat            : float\n",
       "                  value of the knox test for the dataset.\n",
       "pvalue          : float\n",
       "                  pseudo p-value associated with the statistic.\n",
       "counts          : int\n",
       "                  count of space time neighbors.\n",
       "\n",
       "Examples\n",
       "--------\n",
       ">>> import numpy as np\n",
       ">>> import libpysal as lps\n",
       ">>> from pointpats import SpaceTimeEvents, knox\n",
       "\n",
       "Read in the example data and create an instance of SpaceTimeEvents.\n",
       "\n",
       ">>> path = lps.examples.get_path(\"burkitt.shp\")\n",
       ">>> events = SpaceTimeEvents(path,'T')\n",
       "\n",
       "Set the random seed generator. This is used by the permutation based\n",
       "inference to replicate the pseudo-significance of our example results -\n",
       "the end-user will normally omit this step.\n",
       "\n",
       ">>> np.random.seed(100)\n",
       "\n",
       "Run the Knox test with distance and time thresholds of 20 and 5,\n",
       "respectively. This counts the events that are closer than 20 units in\n",
       "space, and 5 units in time.\n",
       "\n",
       ">>> result = knox(events.space, events.t, delta=20, tau=5, permutations=99)\n",
       "\n",
       "Next, we examine the results. First, we call the statistic from the\n",
       "results dictionary. This reports that there are 13 events close\n",
       "in both space and time, according to our threshold definitions.\n",
       "\n",
       ">>> result['stat'] == 13\n",
       "True\n",
       "\n",
       "Next, we look at the pseudo-significance of this value, calculated by\n",
       "permuting the timestamps and rerunning the statistics. In this case,\n",
       "the results indicate there is likely no space-time interaction between\n",
       "the events.\n",
       "\n",
       ">>> print(\"%2.2f\"%result['pvalue'])\n",
       "0.17\n",
       "\u001b[0;31mFile:\u001b[0m      ~/projects/pysal/pointpats/pointpats/spacetime.py\n",
       "\u001b[0;31mType:\u001b[0m      function"
      ]
     },
     "metadata": {},
     "output_type": "display_data"
    }
   ],
   "source": [
    "knox?"
   ]
  },
  {
   "cell_type": "code",
   "execution_count": 10,
   "id": "bdceed0d-1ebf-4a93-b6ff-6557e67fcb27",
   "metadata": {},
   "outputs": [
    {
     "data": {
      "text/plain": [
       "array([[300., 302.],\n",
       "       [291., 270.],\n",
       "       [326., 263.],\n",
       "       [299., 376.],\n",
       "       [267., 327.],\n",
       "       [266., 356.],\n",
       "       [267., 345.],\n",
       "       [262., 338.],\n",
       "       [268., 335.],\n",
       "       [335., 275.],\n",
       "       [302., 272.],\n",
       "       [301., 304.],\n",
       "       [302., 272.],\n",
       "       [324., 337.],\n",
       "       [260., 338.],\n",
       "       [306., 385.],\n",
       "       [284., 362.],\n",
       "       [293., 332.],\n",
       "       [274., 353.],\n",
       "       [263., 333.],\n",
       "       [307., 386.],\n",
       "       [274., 357.],\n",
       "       [297., 282.],\n",
       "       [288., 365.],\n",
       "       [283., 366.],\n",
       "       [290., 352.],\n",
       "       [284., 341.],\n",
       "       [286., 341.],\n",
       "       [282., 350.],\n",
       "       [292., 278.],\n",
       "       [305., 381.],\n",
       "       [298., 378.],\n",
       "       [299., 381.],\n",
       "       [287., 342.],\n",
       "       [276., 380.],\n",
       "       [261., 345.],\n",
       "       [273., 347.],\n",
       "       [284., 357.],\n",
       "       [266., 361.],\n",
       "       [285., 360.],\n",
       "       [278., 350.],\n",
       "       [305., 321.],\n",
       "       [293., 332.],\n",
       "       [297., 375.],\n",
       "       [332., 273.],\n",
       "       [256., 345.],\n",
       "       [275., 357.],\n",
       "       [267., 350.],\n",
       "       [267., 301.],\n",
       "       [286., 379.],\n",
       "       [322., 332.],\n",
       "       [278., 349.],\n",
       "       [280., 356.],\n",
       "       [276., 354.],\n",
       "       [261., 343.],\n",
       "       [323., 298.],\n",
       "       [260., 346.],\n",
       "       [283., 352.],\n",
       "       [282., 361.],\n",
       "       [308., 390.],\n",
       "       [293., 275.],\n",
       "       [331., 272.],\n",
       "       [266., 308.],\n",
       "       [280., 354.],\n",
       "       [301., 271.],\n",
       "       [279., 361.],\n",
       "       [321., 280.],\n",
       "       [292., 391.],\n",
       "       [315., 307.],\n",
       "       [323., 333.],\n",
       "       [282., 302.],\n",
       "       [269., 348.],\n",
       "       [330., 349.],\n",
       "       [281., 302.],\n",
       "       [330., 396.],\n",
       "       [328., 341.],\n",
       "       [264., 323.],\n",
       "       [303., 382.],\n",
       "       [264., 285.],\n",
       "       [259., 337.],\n",
       "       [329., 350.],\n",
       "       [328., 351.],\n",
       "       [284., 351.],\n",
       "       [309., 370.],\n",
       "       [329., 270.],\n",
       "       [273., 347.],\n",
       "       [295., 267.],\n",
       "       [262., 353.],\n",
       "       [281., 352.],\n",
       "       [325., 335.],\n",
       "       [288., 341.],\n",
       "       [302., 248.],\n",
       "       [315., 273.],\n",
       "       [295., 377.],\n",
       "       [284., 358.],\n",
       "       [272., 376.],\n",
       "       [305., 369.],\n",
       "       [279., 318.],\n",
       "       [290., 339.],\n",
       "       [311., 376.],\n",
       "       [288., 256.],\n",
       "       [324., 284.],\n",
       "       [287., 353.],\n",
       "       [283., 364.],\n",
       "       [267., 337.],\n",
       "       [280., 298.],\n",
       "       [275., 326.],\n",
       "       [281., 299.],\n",
       "       [313., 365.],\n",
       "       [273., 332.],\n",
       "       [283., 363.],\n",
       "       [304., 366.],\n",
       "       [308., 387.],\n",
       "       [330., 275.],\n",
       "       [260., 339.],\n",
       "       [289., 335.],\n",
       "       [268., 314.],\n",
       "       [329., 268.],\n",
       "       [264., 298.],\n",
       "       [274., 342.],\n",
       "       [286., 373.],\n",
       "       [263., 346.],\n",
       "       [265., 335.],\n",
       "       [269., 340.],\n",
       "       [260., 359.],\n",
       "       [279., 355.],\n",
       "       [284., 399.],\n",
       "       [270., 337.],\n",
       "       [267., 363.],\n",
       "       [320., 282.],\n",
       "       [282., 315.],\n",
       "       [303., 377.],\n",
       "       [303., 247.],\n",
       "       [264., 297.],\n",
       "       [303., 337.],\n",
       "       [289., 380.],\n",
       "       [270., 330.],\n",
       "       [262., 335.],\n",
       "       [274., 342.],\n",
       "       [262., 333.],\n",
       "       [262., 333.],\n",
       "       [267., 369.],\n",
       "       [255., 290.],\n",
       "       [267., 336.],\n",
       "       [273., 309.],\n",
       "       [270., 328.],\n",
       "       [270., 339.],\n",
       "       [265., 334.],\n",
       "       [276., 360.],\n",
       "       [276., 360.],\n",
       "       [283., 363.],\n",
       "       [305., 374.],\n",
       "       [264., 326.],\n",
       "       [286., 361.],\n",
       "       [278., 333.],\n",
       "       [257., 344.],\n",
       "       [302., 395.],\n",
       "       [275., 378.],\n",
       "       [290., 361.],\n",
       "       [279., 362.],\n",
       "       [300., 255.],\n",
       "       [270., 357.],\n",
       "       [290., 356.],\n",
       "       [291., 368.],\n",
       "       [283., 361.],\n",
       "       [270., 325.],\n",
       "       [266., 332.],\n",
       "       [267., 367.],\n",
       "       [300., 364.],\n",
       "       [268., 390.],\n",
       "       [276., 337.],\n",
       "       [293., 396.],\n",
       "       [273., 345.],\n",
       "       [267., 338.],\n",
       "       [278., 367.],\n",
       "       [310., 387.],\n",
       "       [298., 268.],\n",
       "       [266., 332.],\n",
       "       [279., 340.],\n",
       "       [266., 361.],\n",
       "       [267., 344.],\n",
       "       [272., 370.],\n",
       "       [327., 383.],\n",
       "       [265., 335.],\n",
       "       [310., 387.],\n",
       "       [279., 339.],\n",
       "       [277., 379.],\n",
       "       [258., 350.]])"
      ]
     },
     "execution_count": 10,
     "metadata": {},
     "output_type": "execute_result"
    }
   ],
   "source": [
    "events.space"
   ]
  },
  {
   "cell_type": "code",
   "execution_count": 11,
   "id": "20f228b7-63cb-439a-9223-08462d6ff5af",
   "metadata": {
    "scrolled": true
   },
   "outputs": [
    {
     "data": {
      "text/plain": [
       "array([[4.130e+02, 1.000e+00],\n",
       "       [4.720e+02, 1.000e+00],\n",
       "       [5.110e+02, 1.000e+00],\n",
       "       [6.890e+02, 1.000e+00],\n",
       "       [7.300e+02, 1.000e+00],\n",
       "       [8.470e+02, 1.000e+00],\n",
       "       [8.710e+02, 1.000e+00],\n",
       "       [8.990e+02, 1.000e+00],\n",
       "       [9.210e+02, 1.000e+00],\n",
       "       [1.134e+03, 1.000e+00],\n",
       "       [1.190e+03, 1.000e+00],\n",
       "       [1.214e+03, 1.000e+00],\n",
       "       [1.224e+03, 1.000e+00],\n",
       "       [1.322e+03, 1.000e+00],\n",
       "       [1.399e+03, 1.000e+00],\n",
       "       [1.480e+03, 1.000e+00],\n",
       "       [1.503e+03, 1.000e+00],\n",
       "       [1.549e+03, 1.000e+00],\n",
       "       [1.567e+03, 1.000e+00],\n",
       "       [1.607e+03, 1.000e+00],\n",
       "       [1.615e+03, 1.000e+00],\n",
       "       [1.657e+03, 1.000e+00],\n",
       "       [1.688e+03, 1.000e+00],\n",
       "       [1.695e+03, 1.000e+00],\n",
       "       [1.714e+03, 1.000e+00],\n",
       "       [1.811e+03, 1.000e+00],\n",
       "       [1.813e+03, 1.000e+00],\n",
       "       [1.910e+03, 1.000e+00],\n",
       "       [1.986e+03, 1.000e+00],\n",
       "       [1.996e+03, 1.000e+00],\n",
       "       [2.049e+03, 1.000e+00],\n",
       "       [2.053e+03, 1.000e+00],\n",
       "       [2.075e+03, 1.000e+00],\n",
       "       [2.081e+03, 1.000e+00],\n",
       "       [2.103e+03, 1.000e+00],\n",
       "       [2.204e+03, 1.000e+00],\n",
       "       [2.209e+03, 1.000e+00],\n",
       "       [2.215e+03, 1.000e+00],\n",
       "       [2.239e+03, 1.000e+00],\n",
       "       [2.272e+03, 1.000e+00],\n",
       "       [2.281e+03, 1.000e+00],\n",
       "       [2.349e+03, 1.000e+00],\n",
       "       [2.351e+03, 1.000e+00],\n",
       "       [2.373e+03, 1.000e+00],\n",
       "       [2.377e+03, 1.000e+00],\n",
       "       [2.388e+03, 1.000e+00],\n",
       "       [2.411e+03, 1.000e+00],\n",
       "       [2.412e+03, 1.000e+00],\n",
       "       [2.419e+03, 1.000e+00],\n",
       "       [2.424e+03, 1.000e+00],\n",
       "       [2.488e+03, 1.000e+00],\n",
       "       [2.510e+03, 1.000e+00],\n",
       "       [2.512e+03, 1.000e+00],\n",
       "       [2.533e+03, 1.000e+00],\n",
       "       [2.545e+03, 1.000e+00],\n",
       "       [2.588e+03, 1.000e+00],\n",
       "       [2.616e+03, 1.000e+00],\n",
       "       [2.617e+03, 1.000e+00],\n",
       "       [2.629e+03, 1.000e+00],\n",
       "       [2.658e+03, 1.000e+00],\n",
       "       [2.695e+03, 1.000e+00],\n",
       "       [2.715e+03, 1.000e+00],\n",
       "       [2.766e+03, 1.000e+00],\n",
       "       [2.772e+03, 1.000e+00],\n",
       "       [2.800e+03, 1.000e+00],\n",
       "       [2.888e+03, 1.000e+00],\n",
       "       [2.996e+03, 1.000e+00],\n",
       "       [3.027e+03, 1.000e+00],\n",
       "       [3.118e+03, 1.000e+00],\n",
       "       [3.153e+03, 1.000e+00],\n",
       "       [3.149e+03, 1.000e+00],\n",
       "       [3.149e+03, 1.000e+00],\n",
       "       [3.173e+03, 1.000e+00],\n",
       "       [3.237e+03, 1.000e+00],\n",
       "       [3.245e+03, 1.000e+00],\n",
       "       [3.266e+03, 1.000e+00],\n",
       "       [3.275e+03, 1.000e+00],\n",
       "       [3.286e+03, 1.000e+00],\n",
       "       [3.302e+03, 1.000e+00],\n",
       "       [3.308e+03, 1.000e+00],\n",
       "       [3.323e+03, 1.000e+00],\n",
       "       [3.342e+03, 1.000e+00],\n",
       "       [3.346e+03, 1.000e+00],\n",
       "       [3.422e+03, 1.000e+00],\n",
       "       [3.453e+03, 1.000e+00],\n",
       "       [3.453e+03, 1.000e+00],\n",
       "       [3.500e+03, 1.000e+00],\n",
       "       [3.530e+03, 1.000e+00],\n",
       "       [3.570e+03, 1.000e+00],\n",
       "       [3.576e+03, 1.000e+00],\n",
       "       [3.614e+03, 1.000e+00],\n",
       "       [3.636e+03, 1.000e+00],\n",
       "       [3.661e+03, 1.000e+00],\n",
       "       [3.693e+03, 1.000e+00],\n",
       "       [3.716e+03, 1.000e+00],\n",
       "       [3.773e+03, 1.000e+00],\n",
       "       [3.790e+03, 1.000e+00],\n",
       "       [3.806e+03, 1.000e+00],\n",
       "       [3.843e+03, 1.000e+00],\n",
       "       [3.848e+03, 1.000e+00],\n",
       "       [3.848e+03, 1.000e+00],\n",
       "       [3.851e+03, 1.000e+00],\n",
       "       [3.973e+03, 1.000e+00],\n",
       "       [3.976e+03, 1.000e+00],\n",
       "       [3.878e+03, 1.000e+00],\n",
       "       [3.963e+03, 1.000e+00],\n",
       "       [3.985e+03, 1.000e+00],\n",
       "       [4.079e+03, 1.000e+00],\n",
       "       [4.080e+03, 1.000e+00],\n",
       "       [4.107e+03, 1.000e+00],\n",
       "       [4.118e+03, 1.000e+00],\n",
       "       [4.133e+03, 1.000e+00],\n",
       "       [4.156e+03, 1.000e+00],\n",
       "       [4.194e+03, 1.000e+00],\n",
       "       [4.195e+03, 1.000e+00],\n",
       "       [4.207e+03, 1.000e+00],\n",
       "       [4.212e+03, 1.000e+00],\n",
       "       [4.213e+03, 1.000e+00],\n",
       "       [4.213e+03, 1.000e+00],\n",
       "       [4.216e+03, 1.000e+00],\n",
       "       [4.235e+03, 1.000e+00],\n",
       "       [4.258e+03, 1.000e+00],\n",
       "       [4.273e+03, 1.000e+00],\n",
       "       [4.277e+03, 1.000e+00],\n",
       "       [4.290e+03, 1.000e+00],\n",
       "       [4.336e+03, 1.000e+00],\n",
       "       [4.339e+03, 1.000e+00],\n",
       "       [4.352e+03, 1.000e+00],\n",
       "       [4.383e+03, 1.000e+00],\n",
       "       [4.385e+03, 1.000e+00],\n",
       "       [4.441e+03, 1.000e+00],\n",
       "       [4.492e+03, 1.000e+00],\n",
       "       [4.518e+03, 1.000e+00],\n",
       "       [4.554e+03, 1.000e+00],\n",
       "       [4.565e+03, 1.000e+00],\n",
       "       [4.610e+03, 1.000e+00],\n",
       "       [4.628e+03, 1.000e+00],\n",
       "       [4.637e+03, 1.000e+00],\n",
       "       [4.638e+03, 1.000e+00],\n",
       "       [4.700e+03, 1.000e+00],\n",
       "       [4.700e+03, 1.000e+00],\n",
       "       [4.701e+03, 1.000e+00],\n",
       "       [4.708e+03, 1.000e+00],\n",
       "       [4.750e+03, 1.000e+00],\n",
       "       [4.751e+03, 1.000e+00],\n",
       "       [4.764e+03, 1.000e+00],\n",
       "       [4.780e+03, 1.000e+00],\n",
       "       [4.806e+03, 1.000e+00],\n",
       "       [4.822e+03, 1.000e+00],\n",
       "       [4.848e+03, 1.000e+00],\n",
       "       [4.858e+03, 1.000e+00],\n",
       "       [4.861e+03, 1.000e+00],\n",
       "       [4.862e+03, 1.000e+00],\n",
       "       [4.888e+03, 1.000e+00],\n",
       "       [4.891e+03, 1.000e+00],\n",
       "       [4.914e+03, 1.000e+00],\n",
       "       [4.918e+03, 1.000e+00],\n",
       "       [4.932e+03, 1.000e+00],\n",
       "       [4.944e+03, 1.000e+00],\n",
       "       [4.948e+03, 1.000e+00],\n",
       "       [4.964e+03, 1.000e+00],\n",
       "       [4.975e+03, 1.000e+00],\n",
       "       [5.001e+03, 1.000e+00],\n",
       "       [5.002e+03, 1.000e+00],\n",
       "       [5.072e+03, 1.000e+00],\n",
       "       [5.135e+03, 1.000e+00],\n",
       "       [5.199e+03, 1.000e+00],\n",
       "       [5.353e+03, 1.000e+00],\n",
       "       [5.358e+03, 1.000e+00],\n",
       "       [5.361e+03, 1.000e+00],\n",
       "       [5.489e+03, 1.000e+00],\n",
       "       [5.495e+03, 1.000e+00],\n",
       "       [5.505e+03, 1.000e+00],\n",
       "       [5.530e+03, 1.000e+00],\n",
       "       [5.578e+03, 1.000e+00],\n",
       "       [5.583e+03, 1.000e+00],\n",
       "       [5.588e+03, 1.000e+00],\n",
       "       [5.599e+03, 1.000e+00],\n",
       "       [5.641e+03, 1.000e+00],\n",
       "       [5.643e+03, 1.000e+00],\n",
       "       [5.650e+03, 1.000e+00],\n",
       "       [5.661e+03, 1.000e+00],\n",
       "       [5.702e+03, 1.000e+00],\n",
       "       [5.728e+03, 1.000e+00],\n",
       "       [5.752e+03, 1.000e+00],\n",
       "       [5.753e+03, 1.000e+00],\n",
       "       [5.755e+03, 1.000e+00],\n",
       "       [5.775e+03, 1.000e+00]])"
      ]
     },
     "execution_count": 11,
     "metadata": {},
     "output_type": "execute_result"
    }
   ],
   "source": [
    "events.time"
   ]
  },
  {
   "cell_type": "code",
   "execution_count": 12,
   "id": "fcc2c653-f234-46ce-bbd9-a13fa01d977d",
   "metadata": {},
   "outputs": [],
   "source": [
    "numpy.random.seed(100)"
   ]
  },
  {
   "cell_type": "code",
   "execution_count": 13,
   "id": "e0422470-af63-47a0-ba5b-40d0e2975824",
   "metadata": {},
   "outputs": [],
   "source": [
    "result = knox(events.space, events.t, delta=20, tau=5, permutations=99)"
   ]
  },
  {
   "cell_type": "code",
   "execution_count": 14,
   "id": "2b7576e8-42dc-4fed-841f-bab6d105d557",
   "metadata": {},
   "outputs": [
    {
     "data": {
      "text/plain": [
       "{'stat': 13, 'pvalue': array([0.17])}"
      ]
     },
     "execution_count": 14,
     "metadata": {},
     "output_type": "execute_result"
    }
   ],
   "source": [
    "result"
   ]
  },
  {
   "cell_type": "code",
   "execution_count": 15,
   "id": "4c0fe4ab-8884-4709-9b43-683b1ac14eb0",
   "metadata": {},
   "outputs": [
    {
     "data": {
      "text/plain": [
       "(188, 2)"
      ]
     },
     "execution_count": 15,
     "metadata": {},
     "output_type": "execute_result"
    }
   ],
   "source": [
    "events.space.shape"
   ]
  },
  {
   "cell_type": "code",
   "execution_count": 16,
   "id": "082197b3-a7cc-4829-8e74-045943e28675",
   "metadata": {},
   "outputs": [
    {
     "data": {
      "text/plain": [
       "(188, 1)"
      ]
     },
     "execution_count": 16,
     "metadata": {},
     "output_type": "execute_result"
    }
   ],
   "source": [
    "events.t.shape"
   ]
  },
  {
   "cell_type": "markdown",
   "id": "50ea59b1-d82f-4fbf-97b0-55aac4ead2b4",
   "metadata": {},
   "source": [
    "## New Implementation\n",
    "\n",
    "- Analytical Inference\n",
    "- Local Knox\n",
    "- Better Reporting"
   ]
  },
  {
   "cell_type": "code",
   "execution_count": 17,
   "id": "a39be0f8-9180-4492-8e86-954835da5f73",
   "metadata": {},
   "outputs": [
    {
     "data": {
      "text/plain": [
       "'/home/serge/mambaforge/envs/pointpats/lib/python3.11/site-packages/libpysal/examples/burkitt/burkitt.shp'"
      ]
     },
     "execution_count": 17,
     "metadata": {},
     "output_type": "execute_result"
    }
   ],
   "source": [
    "path"
   ]
  },
  {
   "cell_type": "code",
   "execution_count": 18,
   "id": "4d60c4c9-95ee-42c3-b458-bfce15315292",
   "metadata": {},
   "outputs": [],
   "source": [
    "import geopandas"
   ]
  },
  {
   "cell_type": "code",
   "execution_count": 19,
   "id": "2653a3e2-af07-431e-9001-2f0d0f55cc9f",
   "metadata": {},
   "outputs": [],
   "source": [
    "df = geopandas.read_file(path)"
   ]
  },
  {
   "cell_type": "code",
   "execution_count": 20,
   "id": "d44e2752-1711-492c-819e-ce621db4ad70",
   "metadata": {},
   "outputs": [
    {
     "data": {
      "text/html": [
       "<div>\n",
       "<style scoped>\n",
       "    .dataframe tbody tr th:only-of-type {\n",
       "        vertical-align: middle;\n",
       "    }\n",
       "\n",
       "    .dataframe tbody tr th {\n",
       "        vertical-align: top;\n",
       "    }\n",
       "\n",
       "    .dataframe thead th {\n",
       "        text-align: right;\n",
       "    }\n",
       "</style>\n",
       "<table border=\"1\" class=\"dataframe\">\n",
       "  <thead>\n",
       "    <tr style=\"text-align: right;\">\n",
       "      <th></th>\n",
       "      <th>ID</th>\n",
       "      <th>X</th>\n",
       "      <th>Y</th>\n",
       "      <th>T</th>\n",
       "      <th>AGE</th>\n",
       "      <th>DATE</th>\n",
       "      <th>geometry</th>\n",
       "    </tr>\n",
       "  </thead>\n",
       "  <tbody>\n",
       "    <tr>\n",
       "      <th>0</th>\n",
       "      <td>1.0</td>\n",
       "      <td>300.0</td>\n",
       "      <td>302.0</td>\n",
       "      <td>413.0</td>\n",
       "      <td>22.0</td>\n",
       "      <td>1901-02-16</td>\n",
       "      <td>POINT (300.000 302.000)</td>\n",
       "    </tr>\n",
       "    <tr>\n",
       "      <th>1</th>\n",
       "      <td>2.0</td>\n",
       "      <td>291.0</td>\n",
       "      <td>270.0</td>\n",
       "      <td>472.0</td>\n",
       "      <td>5.0</td>\n",
       "      <td>1901-04-16</td>\n",
       "      <td>POINT (291.000 270.000)</td>\n",
       "    </tr>\n",
       "    <tr>\n",
       "      <th>2</th>\n",
       "      <td>3.0</td>\n",
       "      <td>326.0</td>\n",
       "      <td>263.0</td>\n",
       "      <td>511.0</td>\n",
       "      <td>12.0</td>\n",
       "      <td>1901-05-25</td>\n",
       "      <td>POINT (326.000 263.000)</td>\n",
       "    </tr>\n",
       "    <tr>\n",
       "      <th>3</th>\n",
       "      <td>4.0</td>\n",
       "      <td>299.0</td>\n",
       "      <td>376.0</td>\n",
       "      <td>689.0</td>\n",
       "      <td>6.0</td>\n",
       "      <td>1901-11-19</td>\n",
       "      <td>POINT (299.000 376.000)</td>\n",
       "    </tr>\n",
       "    <tr>\n",
       "      <th>4</th>\n",
       "      <td>5.0</td>\n",
       "      <td>267.0</td>\n",
       "      <td>327.0</td>\n",
       "      <td>730.0</td>\n",
       "      <td>4.0</td>\n",
       "      <td>1901-12-30</td>\n",
       "      <td>POINT (267.000 327.000)</td>\n",
       "    </tr>\n",
       "  </tbody>\n",
       "</table>\n",
       "</div>"
      ],
      "text/plain": [
       "    ID      X      Y      T   AGE        DATE                 geometry\n",
       "0  1.0  300.0  302.0  413.0  22.0  1901-02-16  POINT (300.000 302.000)\n",
       "1  2.0  291.0  270.0  472.0   5.0  1901-04-16  POINT (291.000 270.000)\n",
       "2  3.0  326.0  263.0  511.0  12.0  1901-05-25  POINT (326.000 263.000)\n",
       "3  4.0  299.0  376.0  689.0   6.0  1901-11-19  POINT (299.000 376.000)\n",
       "4  5.0  267.0  327.0  730.0   4.0  1901-12-30  POINT (267.000 327.000)"
      ]
     },
     "execution_count": 20,
     "metadata": {},
     "output_type": "execute_result"
    }
   ],
   "source": [
    "df.head()"
   ]
  },
  {
   "cell_type": "code",
   "execution_count": 21,
   "id": "10469df1-d859-4652-a0c2-0ee5468110b4",
   "metadata": {},
   "outputs": [
    {
     "data": {
      "text/plain": [
       "<Axes: >"
      ]
     },
     "execution_count": 21,
     "metadata": {},
     "output_type": "execute_result"
    },
    {
     "data": {
      "image/png": "[encoded data removed]",
      "text/plain": [
       "<Figure size 640x480 with 1 Axes>"
      ]
     },
     "metadata": {},
     "output_type": "display_data"
    }
   ],
   "source": [
    "df.plot()"
   ]
  },
  {
   "cell_type": "code",
   "execution_count": 22,
   "id": "8e875001-a50d-4506-9b58-0e3af8552b45",
   "metadata": {},
   "outputs": [],
   "source": [
    "from scipy.spatial import KDTree"
   ]
  },
  {
   "cell_type": "code",
   "execution_count": 23,
   "id": "0d9f5a73-44e1-442e-be88-e297df73e427",
   "metadata": {},
   "outputs": [],
   "source": [
    "stree = KDTree(df[['X', 'Y']])"
   ]
  },
  {
   "cell_type": "code",
   "execution_count": 24,
   "id": "a7f19056-af12-4666-9678-8547459fa779",
   "metadata": {},
   "outputs": [],
   "source": [
    "ttree = KDTree(df[['T']])"
   ]
  },
  {
   "cell_type": "code",
   "execution_count": 25,
   "id": "ebad70a7-e0cc-455e-a4d1-79bf401ac205",
   "metadata": {},
   "outputs": [],
   "source": [
    "delta = 20\n",
    "tau = 5"
   ]
  },
  {
   "cell_type": "code",
   "execution_count": 26,
   "id": "60bb9712-31f6-4345-92d1-0e941006b46b",
   "metadata": {},
   "outputs": [],
   "source": [
    "sneighbors = stree.query_ball_tree(stree, r=delta)\n",
    "sneighbors = [set(neighbors).difference([i]) for i,neighbors in enumerate(sneighbors)]"
   ]
  },
  {
   "cell_type": "code",
   "execution_count": 27,
   "id": "1ea99cee-bda3-4980-9414-6062b9195a28",
   "metadata": {},
   "outputs": [],
   "source": [
    "tneighbors = ttree.query_ball_tree(ttree, r=tau)\n",
    "tneighbors = [set(neighbors).difference([i]) for i,neighbors in enumerate(tneighbors)]"
   ]
  },
  {
   "cell_type": "code",
   "execution_count": 28,
   "id": "87ab0be1-0caf-4aa0-933f-e999a65ce76a",
   "metadata": {},
   "outputs": [
    {
     "data": {
      "text/plain": [
       "{11, 41, 68, 70, 73, 107}"
      ]
     },
     "execution_count": 28,
     "metadata": {},
     "output_type": "execute_result"
    }
   ],
   "source": [
    "sneighbors[0]"
   ]
  },
  {
   "cell_type": "code",
   "execution_count": 29,
   "id": "7cc59977-1b25-42fa-9688-a7dd67b606b6",
   "metadata": {},
   "outputs": [
    {
     "data": {
      "text/plain": [
       "set()"
      ]
     },
     "execution_count": 29,
     "metadata": {},
     "output_type": "execute_result"
    }
   ],
   "source": [
    "tneighbors[0]"
   ]
  },
  {
   "cell_type": "code",
   "execution_count": 30,
   "id": "b377fe54-fdf1-4570-a6b4-670601337d72",
   "metadata": {},
   "outputs": [],
   "source": [
    "ns = numpy.array([len(neighbors) for neighbors in sneighbors])"
   ]
  },
  {
   "cell_type": "code",
   "execution_count": 31,
   "id": "3f14053d-48a3-48a4-bcc7-33cbf0f8e8c1",
   "metadata": {},
   "outputs": [
    {
     "data": {
      "text/plain": [
       "array([ 6, 10,  9, 31, 45, 61, 69, 52, 53,  9, 10,  4, 10,  7, 49, 22, 54,\n",
       "       16, 75, 48, 21, 66,  8, 53, 54, 50, 53, 50, 63,  8, 26, 30, 27, 46,\n",
       "       26, 56, 85, 57, 53, 55, 74,  6, 16, 35, 10, 42, 67, 70, 11, 33,  8,\n",
       "       74, 64, 69, 56,  4, 52, 61, 55, 18,  9, 10, 15, 65, 11, 58, 11, 22,\n",
       "        4,  7, 13, 75,  7, 12,  1,  7, 34, 27,  4, 46,  7,  7, 58, 20, 10,\n",
       "       85, 10, 56, 64,  7, 39,  3, 13, 39, 57, 29, 25, 22, 34, 21,  8, 10,\n",
       "       51, 55, 56, 10, 47, 12, 12, 58, 54, 23, 21, 10, 51, 31, 24, 10, 11,\n",
       "       75, 46, 63, 51, 67, 34, 65,  5, 64, 52, 11, 16, 27,  3, 11, 11, 35,\n",
       "       50, 48, 75, 49, 49, 34,  4, 53, 17, 46, 69, 49, 59, 59, 54, 26, 41,\n",
       "       52, 57, 46, 17, 27, 46, 55,  9, 62, 46, 48, 57, 39, 49, 40, 33,  5,\n",
       "       65, 16, 81, 58, 51, 21, 11, 49, 68, 53, 70, 41,  5, 51, 21, 66, 27,\n",
       "       48])"
      ]
     },
     "execution_count": 31,
     "metadata": {},
     "output_type": "execute_result"
    }
   ],
   "source": [
    "ns"
   ]
  },
  {
   "cell_type": "code",
   "execution_count": 32,
   "id": "e73d0a91-e1e5-40a5-a104-072878d7394b",
   "metadata": {},
   "outputs": [],
   "source": [
    "nt = numpy.array([len(neighbors) for neighbors in tneighbors])"
   ]
  },
  {
   "cell_type": "code",
   "execution_count": 33,
   "id": "0f909bff-dd02-439b-985e-fdfdb3ca7d3b",
   "metadata": {},
   "outputs": [
    {
     "data": {
      "text/plain": [
       "array([0, 0, 0, 0, 0, 0, 0, 0, 0, 0, 0, 0, 0, 0, 0, 0, 0, 0, 0, 0, 0, 0,\n",
       "       0, 0, 0, 1, 1, 0, 0, 0, 1, 1, 0, 0, 0, 1, 1, 0, 0, 0, 0, 1, 1, 1,\n",
       "       1, 0, 1, 1, 1, 1, 0, 1, 1, 0, 0, 0, 1, 1, 0, 0, 0, 0, 0, 0, 0, 0,\n",
       "       0, 0, 0, 2, 2, 2, 0, 0, 0, 0, 0, 0, 0, 0, 0, 1, 1, 0, 1, 1, 0, 0,\n",
       "       0, 0, 0, 0, 0, 0, 0, 0, 0, 0, 2, 3, 3, 2, 1, 1, 0, 0, 0, 1, 1, 0,\n",
       "       0, 0, 0, 1, 1, 1, 4, 3, 3, 3, 0, 0, 1, 1, 0, 1, 1, 0, 1, 1, 0, 0,\n",
       "       0, 0, 0, 0, 0, 1, 1, 2, 2, 2, 0, 1, 1, 0, 0, 0, 0, 0, 2, 2, 2, 1,\n",
       "       1, 1, 1, 0, 1, 1, 0, 0, 1, 1, 0, 0, 0, 1, 2, 1, 0, 0, 0, 0, 1, 2,\n",
       "       1, 0, 1, 1, 0, 0, 0, 0, 2, 2, 2, 0])"
      ]
     },
     "execution_count": 33,
     "metadata": {},
     "output_type": "execute_result"
    }
   ],
   "source": [
    "nt"
   ]
  },
  {
   "cell_type": "code",
   "execution_count": 34,
   "id": "2b7848ef-2a91-4e3d-b250-4defa0612a8e",
   "metadata": {},
   "outputs": [],
   "source": [
    "stneighbors = [sneighbors_i.intersection(tneighbors_i) for sneighbors_i, tneighbors_i in zip(sneighbors, tneighbors)]"
   ]
  },
  {
   "cell_type": "code",
   "execution_count": 35,
   "id": "b2ae6539-adba-46a6-ace6-26660c652af4",
   "metadata": {},
   "outputs": [],
   "source": [
    "nst = numpy.array([len(neighbors) for neighbors in stneighbors])"
   ]
  },
  {
   "cell_type": "code",
   "execution_count": 36,
   "id": "89aca420-4751-4727-8b96-19d37533470c",
   "metadata": {},
   "outputs": [
    {
     "data": {
      "text/plain": [
       "array([0, 0, 0, 0, 0, 0, 0, 0, 0, 0, 0, 0, 0, 0, 0, 0, 0, 0, 0, 0, 0, 0,\n",
       "       0, 0, 0, 1, 1, 0, 0, 0, 1, 1, 0, 0, 0, 1, 1, 0, 0, 0, 0, 1, 1, 0,\n",
       "       0, 0, 1, 1, 0, 0, 0, 1, 1, 0, 0, 0, 0, 0, 0, 0, 0, 0, 0, 0, 0, 0,\n",
       "       0, 0, 0, 0, 0, 0, 0, 0, 0, 0, 0, 0, 0, 0, 0, 0, 0, 0, 0, 0, 0, 0,\n",
       "       0, 0, 0, 0, 0, 0, 0, 0, 0, 0, 0, 0, 0, 0, 1, 1, 0, 0, 0, 0, 0, 0,\n",
       "       0, 0, 0, 0, 0, 0, 1, 0, 1, 0, 0, 0, 1, 1, 0, 0, 0, 0, 0, 0, 0, 0,\n",
       "       0, 0, 0, 0, 0, 1, 1, 1, 1, 0, 0, 0, 0, 0, 0, 0, 0, 0, 0, 0, 0, 0,\n",
       "       0, 0, 0, 0, 1, 1, 0, 0, 1, 1, 0, 0, 0, 0, 0, 0, 0, 0, 0, 0, 0, 0,\n",
       "       0, 0, 0, 0, 0, 0, 0, 0, 0, 0, 0, 0])"
      ]
     },
     "execution_count": 36,
     "metadata": {},
     "output_type": "execute_result"
    }
   ],
   "source": [
    "nst"
   ]
  },
  {
   "cell_type": "code",
   "execution_count": 37,
   "id": "86a2240f-b79e-4816-a600-6a813611152b",
   "metadata": {},
   "outputs": [
    {
     "data": {
      "text/plain": [
       "26"
      ]
     },
     "execution_count": 37,
     "metadata": {},
     "output_type": "execute_result"
    }
   ],
   "source": [
    "nst.sum()"
   ]
  },
  {
   "cell_type": "code",
   "execution_count": 38,
   "id": "73b693c4-5fa2-4deb-b1ec-f6382573c053",
   "metadata": {},
   "outputs": [],
   "source": [
    "NST = nst.sum() / 2"
   ]
  },
  {
   "cell_type": "code",
   "execution_count": 39,
   "id": "7116d15c-f627-4420-a178-dbc36cf01801",
   "metadata": {},
   "outputs": [],
   "source": [
    "NT = nt.sum() / 2\n",
    "NS = ns.sum() / 2"
   ]
  },
  {
   "cell_type": "code",
   "execution_count": 40,
   "id": "597db374-fb2f-40a1-880e-ebbd44a97f25",
   "metadata": {},
   "outputs": [
    {
     "data": {
      "text/plain": [
       "52.0"
      ]
     },
     "execution_count": 40,
     "metadata": {},
     "output_type": "execute_result"
    }
   ],
   "source": [
    "NT"
   ]
  },
  {
   "cell_type": "code",
   "execution_count": 41,
   "id": "3ba40dc3-cf35-452a-9181-d81b3e4320a9",
   "metadata": {},
   "outputs": [
    {
     "data": {
      "text/plain": [
       "3429.0"
      ]
     },
     "execution_count": 41,
     "metadata": {},
     "output_type": "execute_result"
    }
   ],
   "source": [
    "NS"
   ]
  },
  {
   "cell_type": "code",
   "execution_count": 42,
   "id": "404c20be-213d-4231-9d08-351409ee35ba",
   "metadata": {},
   "outputs": [
    {
     "data": {
      "text/plain": [
       "13.0"
      ]
     },
     "execution_count": 42,
     "metadata": {},
     "output_type": "execute_result"
    }
   ],
   "source": [
    "NST\n"
   ]
  },
  {
   "cell_type": "code",
   "execution_count": 43,
   "id": "2921085f-6f0b-4787-8e63-6f278c8934d3",
   "metadata": {},
   "outputs": [
    {
     "data": {
      "text/plain": [
       "17578.0"
      ]
     },
     "execution_count": 43,
     "metadata": {},
     "output_type": "execute_result"
    }
   ],
   "source": [
    "188*187/2"
   ]
  },
  {
   "cell_type": "code",
   "execution_count": 44,
   "id": "13b9d425-1850-43b5-8726-5aa2909f4434",
   "metadata": {},
   "outputs": [
    {
     "data": {
      "text/plain": [
       "14149"
      ]
     },
     "execution_count": 44,
     "metadata": {},
     "output_type": "execute_result"
    }
   ],
   "source": [
    "17578 -3429"
   ]
  },
  {
   "cell_type": "code",
   "execution_count": 45,
   "id": "b52c9136-4491-4234-aa57-22d94f01b8f3",
   "metadata": {},
   "outputs": [
    {
     "data": {
      "text/plain": [
       "3416"
      ]
     },
     "execution_count": 45,
     "metadata": {},
     "output_type": "execute_result"
    }
   ],
   "source": [
    "3429-13"
   ]
  },
  {
   "cell_type": "code",
   "execution_count": 46,
   "id": "eb1fc3d3-db8c-46ff-982b-33ea0bfa9393",
   "metadata": {},
   "outputs": [
    {
     "data": {
      "text/plain": [
       "17526"
      ]
     },
     "execution_count": 46,
     "metadata": {},
     "output_type": "execute_result"
    }
   ],
   "source": [
    "17578-52"
   ]
  },
  {
   "cell_type": "code",
   "execution_count": 47,
   "id": "a17ed7bf-f2c6-4d34-b45b-3487a4a22fd3",
   "metadata": {},
   "outputs": [
    {
     "data": {
      "text/plain": [
       "39"
      ]
     },
     "execution_count": 47,
     "metadata": {},
     "output_type": "execute_result"
    }
   ],
   "source": [
    "52-13"
   ]
  },
  {
   "cell_type": "code",
   "execution_count": 48,
   "id": "ec82b435-09ed-4bb6-96cf-3fa1f6008527",
   "metadata": {},
   "outputs": [
    {
     "data": {
      "text/plain": [
       "14110"
      ]
     },
     "execution_count": 48,
     "metadata": {},
     "output_type": "execute_result"
    }
   ],
   "source": [
    "14149-39"
   ]
  },
  {
   "cell_type": "code",
   "execution_count": 49,
   "id": "cd93d81b-b68d-4b97-a7d5-941b537c92f1",
   "metadata": {},
   "outputs": [],
   "source": [
    "ENST = NS*NT / 17578"
   ]
  },
  {
   "cell_type": "code",
   "execution_count": 50,
   "id": "396932cb-1b14-4a6b-bf48-22d26317101d",
   "metadata": {},
   "outputs": [
    {
     "data": {
      "text/plain": [
       "10.143816133803618"
      ]
     },
     "execution_count": 50,
     "metadata": {},
     "output_type": "execute_result"
    }
   ],
   "source": [
    "ENST"
   ]
  },
  {
   "cell_type": "code",
   "execution_count": 51,
   "id": "cb643490-3f88-45c4-8bec-ff04eb75d7b9",
   "metadata": {},
   "outputs": [],
   "source": [
    "from scipy.stats import poisson"
   ]
  },
  {
   "cell_type": "code",
   "execution_count": 52,
   "id": "e2e3a119-a90c-4031-bd73-c4e7eb1673ea",
   "metadata": {},
   "outputs": [
    {
     "data": {
      "text/plain": [
       "0.14624435546482228"
      ]
     },
     "execution_count": 52,
     "metadata": {},
     "output_type": "execute_result"
    }
   ],
   "source": [
    "1 - poisson.cdf(13, 10.1438)"
   ]
  },
  {
   "cell_type": "markdown",
   "id": "0a47d2af-effc-47bf-9cac-44c1228d2857",
   "metadata": {},
   "source": [
    "## Next Steps\n",
    "\n",
    "- wrap knox functionality\n",
    "- generalize away from shapefile\n",
    "- summary report\n",
    "- analytical inference\n",
    "- permutation inference\n",
    "- local knox"
   ]
  },
  {
   "cell_type": "code",
   "execution_count": 53,
   "id": "9e3a06a3-ca9f-429b-b166-83773af09ed7",
   "metadata": {},
   "outputs": [],
   "source": [
    "from pointpats.spacetime import _knox"
   ]
  },
  {
   "cell_type": "code",
   "execution_count": 54,
   "id": "70c4976c-52d6-49d6-8bdb-ff24209ae9f1",
   "metadata": {},
   "outputs": [
    {
     "data": {
      "text/plain": [
       "(188, 1)"
      ]
     },
     "execution_count": 54,
     "metadata": {},
     "output_type": "execute_result"
    }
   ],
   "source": [
    "ttree.data.shape"
   ]
  },
  {
   "cell_type": "code",
   "execution_count": 55,
   "id": "d2545dd9-4795-42dd-b42f-7f0c94486fe7",
   "metadata": {},
   "outputs": [],
   "source": [
    "space =df[['X', 'Y']]\n",
    "time = df['T'].values\n",
    "time = time.reshape(-1,1)"
   ]
  },
  {
   "cell_type": "code",
   "execution_count": 58,
   "id": "70116f7d-a69d-4c5b-a888-cb31f0c06128",
   "metadata": {},
   "outputs": [
    {
     "data": {
      "text/plain": [
       "{'ns': 3429.0,\n",
       " 'nt': 52.0,\n",
       " 'nst': 13.0,\n",
       " 'pairs': 17578.0,\n",
       " 'expected': array([[1.01438161e+01, 3.41885618e+03],\n",
       "        [4.18561839e+01, 1.41071438e+04]]),\n",
       " 'observed': array([[1.300e+01, 3.416e+03],\n",
       "        [3.900e+01, 1.411e+04]]),\n",
       " 'p_value_poisson': 0.14624558197140414}"
      ]
     },
     "execution_count": 58,
     "metadata": {},
     "output_type": "execute_result"
    }
   ],
   "source": [
    "_knox(space, time, delta=20, tau=5)"
   ]
  },
  {
   "cell_type": "code",
   "execution_count": null,
   "id": "306b8bc4-69a3-45b0-b5b0-cc7e3d9e254c",
   "metadata": {},
   "outputs": [],
   "source": []
  }
 ],
 "metadata": {
  "kernelspec": {
   "display_name": "Python 3 (ipykernel)",
   "language": "python",
   "name": "python3"
  },
  "language_info": {
   "codemirror_mode": {
    "name": "ipython",
    "version": 3
   },
   "file_extension": ".py",
   "mimetype": "text/x-python",
   "name": "python",
   "nbconvert_exporter": "python",
   "pygments_lexer": "ipython3",
   "version": "3.11.4"
  }
 },
 "nbformat": 4,
 "nbformat_minor": 5
}
