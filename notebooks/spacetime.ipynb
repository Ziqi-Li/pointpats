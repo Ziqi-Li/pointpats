{
 "cells": [
  {
   "cell_type": "markdown",
   "id": "df4724c7-7e8a-4410-804a-6f0551aafcbe",
   "metadata": {},
   "source": [
    "# Knox space-time interaction statistic"
   ]
  },
  {
   "cell_type": "code",
   "execution_count": 1,
   "id": "cedb45a1-df8c-4a1d-96b0-b48c92b4f55e",
   "metadata": {},
   "outputs": [],
   "source": [
    "%load_ext autoreload\n",
    "%autoreload 2"
   ]
  },
  {
   "cell_type": "markdown",
   "id": "8e5d40f6-0ee7-4587-940f-4fd3428dd4a8",
   "metadata": {},
   "source": [
    "## Current Implementation (to be deprecated)"
   ]
  },
  {
   "cell_type": "code",
   "execution_count": 2,
   "id": "551458d6-3d47-463a-8045-c2fe7574a3c0",
   "metadata": {},
   "outputs": [
    {
     "name": "stderr",
     "output_type": "stream",
     "text": [
      "/home/serge/mambaforge/envs/pointpats/lib/python3.11/site-packages/libpysal/cg/alpha_shapes.py:38: NumbaDeprecationWarning: The 'nopython' keyword argument was not supplied to the 'numba.jit' decorator. The implicit default value for this argument is currently False, but it will be changed to True in Numba 0.59.0. See https://numba.readthedocs.io/en/stable/reference/deprecation.html#deprecation-of-object-mode-fall-back-behaviour-when-using-jit for details.\n",
      "  @jit\n",
      "/home/serge/mambaforge/envs/pointpats/lib/python3.11/site-packages/libpysal/cg/alpha_shapes.py:164: NumbaDeprecationWarning: The 'nopython' keyword argument was not supplied to the 'numba.jit' decorator. The implicit default value for this argument is currently False, but it will be changed to True in Numba 0.59.0. See https://numba.readthedocs.io/en/stable/reference/deprecation.html#deprecation-of-object-mode-fall-back-behaviour-when-using-jit for details.\n",
      "  @jit\n",
      "/home/serge/mambaforge/envs/pointpats/lib/python3.11/site-packages/libpysal/cg/alpha_shapes.py:198: NumbaDeprecationWarning: The 'nopython' keyword argument was not supplied to the 'numba.jit' decorator. The implicit default value for this argument is currently False, but it will be changed to True in Numba 0.59.0. See https://numba.readthedocs.io/en/stable/reference/deprecation.html#deprecation-of-object-mode-fall-back-behaviour-when-using-jit for details.\n",
      "  @jit\n",
      "/home/serge/mambaforge/envs/pointpats/lib/python3.11/site-packages/libpysal/cg/alpha_shapes.py:260: NumbaDeprecationWarning: The 'nopython' keyword argument was not supplied to the 'numba.jit' decorator. The implicit default value for this argument is currently False, but it will be changed to True in Numba 0.59.0. See https://numba.readthedocs.io/en/stable/reference/deprecation.html#deprecation-of-object-mode-fall-back-behaviour-when-using-jit for details.\n",
      "  @jit\n"
     ]
    }
   ],
   "source": [
    "import pointpats"
   ]
  },
  {
   "cell_type": "code",
   "execution_count": 3,
   "id": "62f68eb2-cd64-426b-977b-76abd77b2349",
   "metadata": {},
   "outputs": [],
   "source": [
    "import libpysal"
   ]
  },
  {
   "cell_type": "code",
   "execution_count": 4,
   "id": "5c4b19f6-150a-40c8-8022-aab086332ca6",
   "metadata": {},
   "outputs": [],
   "source": [
    "path = libpysal.examples.get_path('burkitt.shp')"
   ]
  },
  {
   "cell_type": "code",
   "execution_count": 5,
   "id": "b68cc670-4ee3-4d34-9c32-f1b998b2aef5",
   "metadata": {},
   "outputs": [],
   "source": [
    "from pointpats import SpaceTimeEvents, knox"
   ]
  },
  {
   "cell_type": "code",
   "execution_count": 6,
   "id": "c6b1ec6b-63a9-43bd-9d19-f02678249722",
   "metadata": {},
   "outputs": [
    {
     "name": "stderr",
     "output_type": "stream",
     "text": [
      "/home/serge/mambaforge/envs/pointpats/lib/python3.11/site-packages/libpysal/cg/shapes.py:103: FutureWarning: Objects based on the `Geometry` class will deprecated and removed in a future version of libpysal.\n",
      "  warnings.warn(dep_msg, FutureWarning)\n"
     ]
    }
   ],
   "source": [
    "events = SpaceTimeEvents(path, 'T')"
   ]
  },
  {
   "cell_type": "code",
   "execution_count": 7,
   "id": "20b15e1b-1c37-4e8e-99fc-a65904c1c84a",
   "metadata": {},
   "outputs": [
    {
     "data": {
      "text/plain": [
       "<pointpats.spacetime.SpaceTimeEvents at 0x7f42e2a35090>"
      ]
     },
     "execution_count": 7,
     "metadata": {},
     "output_type": "execute_result"
    }
   ],
   "source": [
    "events"
   ]
  },
  {
   "cell_type": "code",
   "execution_count": 8,
   "id": "195767a0-1381-47ad-92be-6c94c7513969",
   "metadata": {},
   "outputs": [],
   "source": [
    "import numpy"
   ]
  },
  {
   "cell_type": "code",
   "execution_count": 9,
   "id": "e74a1d48-bb41-48a1-be1d-8a62776235d7",
   "metadata": {},
   "outputs": [
    {
     "data": {
      "text/plain": [
       "\u001b[0;31mSignature:\u001b[0m \u001b[0mknox\u001b[0m\u001b[0;34m(\u001b[0m\u001b[0ms_coords\u001b[0m\u001b[0;34m,\u001b[0m \u001b[0mt_coords\u001b[0m\u001b[0;34m,\u001b[0m \u001b[0mdelta\u001b[0m\u001b[0;34m,\u001b[0m \u001b[0mtau\u001b[0m\u001b[0;34m,\u001b[0m \u001b[0mpermutations\u001b[0m\u001b[0;34m=\u001b[0m\u001b[0;36m99\u001b[0m\u001b[0;34m,\u001b[0m \u001b[0mdebug\u001b[0m\u001b[0;34m=\u001b[0m\u001b[0;32mFalse\u001b[0m\u001b[0;34m)\u001b[0m\u001b[0;34m\u001b[0m\u001b[0;34m\u001b[0m\u001b[0m\n",
       "\u001b[0;31mDocstring:\u001b[0m\n",
       "Knox test for spatio-temporal interaction. :cite:`Knox:1964`\n",
       "\n",
       "Parameters\n",
       "----------\n",
       "s_coords        : array\n",
       "                  (n, 2), spatial coordinates.\n",
       "t_coords        : array\n",
       "                  (n, 1), temporal coordinates.\n",
       "delta           : float\n",
       "                  threshold for proximity in space.\n",
       "tau             : float\n",
       "                  threshold for proximity in time.\n",
       "permutations    : int, optional\n",
       "                  the number of permutations used to establish pseudo-\n",
       "                  significance (the default is 99).\n",
       "debug           : bool, optional\n",
       "                  if true, debugging information is printed (the default is\n",
       "                  False).\n",
       "\n",
       "Returns\n",
       "-------\n",
       "knox_result     : dictionary\n",
       "                  contains the statistic (stat) for the test and the\n",
       "                  associated p-value (pvalue).\n",
       "stat            : float\n",
       "                  value of the knox test for the dataset.\n",
       "pvalue          : float\n",
       "                  pseudo p-value associated with the statistic.\n",
       "counts          : int\n",
       "                  count of space time neighbors.\n",
       "\n",
       "Examples\n",
       "--------\n",
       ">>> import numpy as np\n",
       ">>> import libpysal as lps\n",
       ">>> from pointpats import SpaceTimeEvents, knox\n",
       "\n",
       "Read in the example data and create an instance of SpaceTimeEvents.\n",
       "\n",
       ">>> path = lps.examples.get_path(\"burkitt.shp\")\n",
       ">>> events = SpaceTimeEvents(path,'T')\n",
       "\n",
       "Set the random seed generator. This is used by the permutation based\n",
       "inference to replicate the pseudo-significance of our example results -\n",
       "the end-user will normally omit this step.\n",
       "\n",
       ">>> np.random.seed(100)\n",
       "\n",
       "Run the Knox test with distance and time thresholds of 20 and 5,\n",
       "respectively. This counts the events that are closer than 20 units in\n",
       "space, and 5 units in time.\n",
       "\n",
       ">>> result = knox(events.space, events.t, delta=20, tau=5, permutations=99)\n",
       "\n",
       "Next, we examine the results. First, we call the statistic from the\n",
       "results dictionary. This reports that there are 13 events close\n",
       "in both space and time, according to our threshold definitions.\n",
       "\n",
       ">>> result['stat'] == 13\n",
       "True\n",
       "\n",
       "Next, we look at the pseudo-significance of this value, calculated by\n",
       "permuting the timestamps and rerunning the statistics. In this case,\n",
       "the results indicate there is likely no space-time interaction between\n",
       "the events.\n",
       "\n",
       ">>> print(\"%2.2f\"%result['pvalue'])\n",
       "0.17\n",
       "\u001b[0;31mFile:\u001b[0m      ~/projects/pysal/pointpats/pointpats/spacetime.py\n",
       "\u001b[0;31mType:\u001b[0m      function"
      ]
     },
     "metadata": {},
     "output_type": "display_data"
    }
   ],
   "source": [
    "knox?"
   ]
  },
  {
   "cell_type": "code",
   "execution_count": 10,
   "id": "bdceed0d-1ebf-4a93-b6ff-6557e67fcb27",
   "metadata": {
    "scrolled": true
   },
   "outputs": [
    {
     "data": {
      "text/plain": [
       "array([[300., 302.],\n",
       "       [291., 270.],\n",
       "       [326., 263.],\n",
       "       [299., 376.],\n",
       "       [267., 327.],\n",
       "       [266., 356.],\n",
       "       [267., 345.],\n",
       "       [262., 338.],\n",
       "       [268., 335.],\n",
       "       [335., 275.],\n",
       "       [302., 272.],\n",
       "       [301., 304.],\n",
       "       [302., 272.],\n",
       "       [324., 337.],\n",
       "       [260., 338.],\n",
       "       [306., 385.],\n",
       "       [284., 362.],\n",
       "       [293., 332.],\n",
       "       [274., 353.],\n",
       "       [263., 333.],\n",
       "       [307., 386.],\n",
       "       [274., 357.],\n",
       "       [297., 282.],\n",
       "       [288., 365.],\n",
       "       [283., 366.],\n",
       "       [290., 352.],\n",
       "       [284., 341.],\n",
       "       [286., 341.],\n",
       "       [282., 350.],\n",
       "       [292., 278.],\n",
       "       [305., 381.],\n",
       "       [298., 378.],\n",
       "       [299., 381.],\n",
       "       [287., 342.],\n",
       "       [276., 380.],\n",
       "       [261., 345.],\n",
       "       [273., 347.],\n",
       "       [284., 357.],\n",
       "       [266., 361.],\n",
       "       [285., 360.],\n",
       "       [278., 350.],\n",
       "       [305., 321.],\n",
       "       [293., 332.],\n",
       "       [297., 375.],\n",
       "       [332., 273.],\n",
       "       [256., 345.],\n",
       "       [275., 357.],\n",
       "       [267., 350.],\n",
       "       [267., 301.],\n",
       "       [286., 379.],\n",
       "       [322., 332.],\n",
       "       [278., 349.],\n",
       "       [280., 356.],\n",
       "       [276., 354.],\n",
       "       [261., 343.],\n",
       "       [323., 298.],\n",
       "       [260., 346.],\n",
       "       [283., 352.],\n",
       "       [282., 361.],\n",
       "       [308., 390.],\n",
       "       [293., 275.],\n",
       "       [331., 272.],\n",
       "       [266., 308.],\n",
       "       [280., 354.],\n",
       "       [301., 271.],\n",
       "       [279., 361.],\n",
       "       [321., 280.],\n",
       "       [292., 391.],\n",
       "       [315., 307.],\n",
       "       [323., 333.],\n",
       "       [282., 302.],\n",
       "       [269., 348.],\n",
       "       [330., 349.],\n",
       "       [281., 302.],\n",
       "       [330., 396.],\n",
       "       [328., 341.],\n",
       "       [264., 323.],\n",
       "       [303., 382.],\n",
       "       [264., 285.],\n",
       "       [259., 337.],\n",
       "       [329., 350.],\n",
       "       [328., 351.],\n",
       "       [284., 351.],\n",
       "       [309., 370.],\n",
       "       [329., 270.],\n",
       "       [273., 347.],\n",
       "       [295., 267.],\n",
       "       [262., 353.],\n",
       "       [281., 352.],\n",
       "       [325., 335.],\n",
       "       [288., 341.],\n",
       "       [302., 248.],\n",
       "       [315., 273.],\n",
       "       [295., 377.],\n",
       "       [284., 358.],\n",
       "       [272., 376.],\n",
       "       [305., 369.],\n",
       "       [279., 318.],\n",
       "       [290., 339.],\n",
       "       [311., 376.],\n",
       "       [288., 256.],\n",
       "       [324., 284.],\n",
       "       [287., 353.],\n",
       "       [283., 364.],\n",
       "       [267., 337.],\n",
       "       [280., 298.],\n",
       "       [275., 326.],\n",
       "       [281., 299.],\n",
       "       [313., 365.],\n",
       "       [273., 332.],\n",
       "       [283., 363.],\n",
       "       [304., 366.],\n",
       "       [308., 387.],\n",
       "       [330., 275.],\n",
       "       [260., 339.],\n",
       "       [289., 335.],\n",
       "       [268., 314.],\n",
       "       [329., 268.],\n",
       "       [264., 298.],\n",
       "       [274., 342.],\n",
       "       [286., 373.],\n",
       "       [263., 346.],\n",
       "       [265., 335.],\n",
       "       [269., 340.],\n",
       "       [260., 359.],\n",
       "       [279., 355.],\n",
       "       [284., 399.],\n",
       "       [270., 337.],\n",
       "       [267., 363.],\n",
       "       [320., 282.],\n",
       "       [282., 315.],\n",
       "       [303., 377.],\n",
       "       [303., 247.],\n",
       "       [264., 297.],\n",
       "       [303., 337.],\n",
       "       [289., 380.],\n",
       "       [270., 330.],\n",
       "       [262., 335.],\n",
       "       [274., 342.],\n",
       "       [262., 333.],\n",
       "       [262., 333.],\n",
       "       [267., 369.],\n",
       "       [255., 290.],\n",
       "       [267., 336.],\n",
       "       [273., 309.],\n",
       "       [270., 328.],\n",
       "       [270., 339.],\n",
       "       [265., 334.],\n",
       "       [276., 360.],\n",
       "       [276., 360.],\n",
       "       [283., 363.],\n",
       "       [305., 374.],\n",
       "       [264., 326.],\n",
       "       [286., 361.],\n",
       "       [278., 333.],\n",
       "       [257., 344.],\n",
       "       [302., 395.],\n",
       "       [275., 378.],\n",
       "       [290., 361.],\n",
       "       [279., 362.],\n",
       "       [300., 255.],\n",
       "       [270., 357.],\n",
       "       [290., 356.],\n",
       "       [291., 368.],\n",
       "       [283., 361.],\n",
       "       [270., 325.],\n",
       "       [266., 332.],\n",
       "       [267., 367.],\n",
       "       [300., 364.],\n",
       "       [268., 390.],\n",
       "       [276., 337.],\n",
       "       [293., 396.],\n",
       "       [273., 345.],\n",
       "       [267., 338.],\n",
       "       [278., 367.],\n",
       "       [310., 387.],\n",
       "       [298., 268.],\n",
       "       [266., 332.],\n",
       "       [279., 340.],\n",
       "       [266., 361.],\n",
       "       [267., 344.],\n",
       "       [272., 370.],\n",
       "       [327., 383.],\n",
       "       [265., 335.],\n",
       "       [310., 387.],\n",
       "       [279., 339.],\n",
       "       [277., 379.],\n",
       "       [258., 350.]])"
      ]
     },
     "execution_count": 10,
     "metadata": {},
     "output_type": "execute_result"
    }
   ],
   "source": [
    "events.space"
   ]
  },
  {
   "cell_type": "code",
   "execution_count": 11,
   "id": "20f228b7-63cb-439a-9223-08462d6ff5af",
   "metadata": {
    "scrolled": true
   },
   "outputs": [
    {
     "data": {
      "text/plain": [
       "array([[4.130e+02, 1.000e+00],\n",
       "       [4.720e+02, 1.000e+00],\n",
       "       [5.110e+02, 1.000e+00],\n",
       "       [6.890e+02, 1.000e+00],\n",
       "       [7.300e+02, 1.000e+00],\n",
       "       [8.470e+02, 1.000e+00],\n",
       "       [8.710e+02, 1.000e+00],\n",
       "       [8.990e+02, 1.000e+00],\n",
       "       [9.210e+02, 1.000e+00],\n",
       "       [1.134e+03, 1.000e+00],\n",
       "       [1.190e+03, 1.000e+00],\n",
       "       [1.214e+03, 1.000e+00],\n",
       "       [1.224e+03, 1.000e+00],\n",
       "       [1.322e+03, 1.000e+00],\n",
       "       [1.399e+03, 1.000e+00],\n",
       "       [1.480e+03, 1.000e+00],\n",
       "       [1.503e+03, 1.000e+00],\n",
       "       [1.549e+03, 1.000e+00],\n",
       "       [1.567e+03, 1.000e+00],\n",
       "       [1.607e+03, 1.000e+00],\n",
       "       [1.615e+03, 1.000e+00],\n",
       "       [1.657e+03, 1.000e+00],\n",
       "       [1.688e+03, 1.000e+00],\n",
       "       [1.695e+03, 1.000e+00],\n",
       "       [1.714e+03, 1.000e+00],\n",
       "       [1.811e+03, 1.000e+00],\n",
       "       [1.813e+03, 1.000e+00],\n",
       "       [1.910e+03, 1.000e+00],\n",
       "       [1.986e+03, 1.000e+00],\n",
       "       [1.996e+03, 1.000e+00],\n",
       "       [2.049e+03, 1.000e+00],\n",
       "       [2.053e+03, 1.000e+00],\n",
       "       [2.075e+03, 1.000e+00],\n",
       "       [2.081e+03, 1.000e+00],\n",
       "       [2.103e+03, 1.000e+00],\n",
       "       [2.204e+03, 1.000e+00],\n",
       "       [2.209e+03, 1.000e+00],\n",
       "       [2.215e+03, 1.000e+00],\n",
       "       [2.239e+03, 1.000e+00],\n",
       "       [2.272e+03, 1.000e+00],\n",
       "       [2.281e+03, 1.000e+00],\n",
       "       [2.349e+03, 1.000e+00],\n",
       "       [2.351e+03, 1.000e+00],\n",
       "       [2.373e+03, 1.000e+00],\n",
       "       [2.377e+03, 1.000e+00],\n",
       "       [2.388e+03, 1.000e+00],\n",
       "       [2.411e+03, 1.000e+00],\n",
       "       [2.412e+03, 1.000e+00],\n",
       "       [2.419e+03, 1.000e+00],\n",
       "       [2.424e+03, 1.000e+00],\n",
       "       [2.488e+03, 1.000e+00],\n",
       "       [2.510e+03, 1.000e+00],\n",
       "       [2.512e+03, 1.000e+00],\n",
       "       [2.533e+03, 1.000e+00],\n",
       "       [2.545e+03, 1.000e+00],\n",
       "       [2.588e+03, 1.000e+00],\n",
       "       [2.616e+03, 1.000e+00],\n",
       "       [2.617e+03, 1.000e+00],\n",
       "       [2.629e+03, 1.000e+00],\n",
       "       [2.658e+03, 1.000e+00],\n",
       "       [2.695e+03, 1.000e+00],\n",
       "       [2.715e+03, 1.000e+00],\n",
       "       [2.766e+03, 1.000e+00],\n",
       "       [2.772e+03, 1.000e+00],\n",
       "       [2.800e+03, 1.000e+00],\n",
       "       [2.888e+03, 1.000e+00],\n",
       "       [2.996e+03, 1.000e+00],\n",
       "       [3.027e+03, 1.000e+00],\n",
       "       [3.118e+03, 1.000e+00],\n",
       "       [3.153e+03, 1.000e+00],\n",
       "       [3.149e+03, 1.000e+00],\n",
       "       [3.149e+03, 1.000e+00],\n",
       "       [3.173e+03, 1.000e+00],\n",
       "       [3.237e+03, 1.000e+00],\n",
       "       [3.245e+03, 1.000e+00],\n",
       "       [3.266e+03, 1.000e+00],\n",
       "       [3.275e+03, 1.000e+00],\n",
       "       [3.286e+03, 1.000e+00],\n",
       "       [3.302e+03, 1.000e+00],\n",
       "       [3.308e+03, 1.000e+00],\n",
       "       [3.323e+03, 1.000e+00],\n",
       "       [3.342e+03, 1.000e+00],\n",
       "       [3.346e+03, 1.000e+00],\n",
       "       [3.422e+03, 1.000e+00],\n",
       "       [3.453e+03, 1.000e+00],\n",
       "       [3.453e+03, 1.000e+00],\n",
       "       [3.500e+03, 1.000e+00],\n",
       "       [3.530e+03, 1.000e+00],\n",
       "       [3.570e+03, 1.000e+00],\n",
       "       [3.576e+03, 1.000e+00],\n",
       "       [3.614e+03, 1.000e+00],\n",
       "       [3.636e+03, 1.000e+00],\n",
       "       [3.661e+03, 1.000e+00],\n",
       "       [3.693e+03, 1.000e+00],\n",
       "       [3.716e+03, 1.000e+00],\n",
       "       [3.773e+03, 1.000e+00],\n",
       "       [3.790e+03, 1.000e+00],\n",
       "       [3.806e+03, 1.000e+00],\n",
       "       [3.843e+03, 1.000e+00],\n",
       "       [3.848e+03, 1.000e+00],\n",
       "       [3.848e+03, 1.000e+00],\n",
       "       [3.851e+03, 1.000e+00],\n",
       "       [3.973e+03, 1.000e+00],\n",
       "       [3.976e+03, 1.000e+00],\n",
       "       [3.878e+03, 1.000e+00],\n",
       "       [3.963e+03, 1.000e+00],\n",
       "       [3.985e+03, 1.000e+00],\n",
       "       [4.079e+03, 1.000e+00],\n",
       "       [4.080e+03, 1.000e+00],\n",
       "       [4.107e+03, 1.000e+00],\n",
       "       [4.118e+03, 1.000e+00],\n",
       "       [4.133e+03, 1.000e+00],\n",
       "       [4.156e+03, 1.000e+00],\n",
       "       [4.194e+03, 1.000e+00],\n",
       "       [4.195e+03, 1.000e+00],\n",
       "       [4.207e+03, 1.000e+00],\n",
       "       [4.212e+03, 1.000e+00],\n",
       "       [4.213e+03, 1.000e+00],\n",
       "       [4.213e+03, 1.000e+00],\n",
       "       [4.216e+03, 1.000e+00],\n",
       "       [4.235e+03, 1.000e+00],\n",
       "       [4.258e+03, 1.000e+00],\n",
       "       [4.273e+03, 1.000e+00],\n",
       "       [4.277e+03, 1.000e+00],\n",
       "       [4.290e+03, 1.000e+00],\n",
       "       [4.336e+03, 1.000e+00],\n",
       "       [4.339e+03, 1.000e+00],\n",
       "       [4.352e+03, 1.000e+00],\n",
       "       [4.383e+03, 1.000e+00],\n",
       "       [4.385e+03, 1.000e+00],\n",
       "       [4.441e+03, 1.000e+00],\n",
       "       [4.492e+03, 1.000e+00],\n",
       "       [4.518e+03, 1.000e+00],\n",
       "       [4.554e+03, 1.000e+00],\n",
       "       [4.565e+03, 1.000e+00],\n",
       "       [4.610e+03, 1.000e+00],\n",
       "       [4.628e+03, 1.000e+00],\n",
       "       [4.637e+03, 1.000e+00],\n",
       "       [4.638e+03, 1.000e+00],\n",
       "       [4.700e+03, 1.000e+00],\n",
       "       [4.700e+03, 1.000e+00],\n",
       "       [4.701e+03, 1.000e+00],\n",
       "       [4.708e+03, 1.000e+00],\n",
       "       [4.750e+03, 1.000e+00],\n",
       "       [4.751e+03, 1.000e+00],\n",
       "       [4.764e+03, 1.000e+00],\n",
       "       [4.780e+03, 1.000e+00],\n",
       "       [4.806e+03, 1.000e+00],\n",
       "       [4.822e+03, 1.000e+00],\n",
       "       [4.848e+03, 1.000e+00],\n",
       "       [4.858e+03, 1.000e+00],\n",
       "       [4.861e+03, 1.000e+00],\n",
       "       [4.862e+03, 1.000e+00],\n",
       "       [4.888e+03, 1.000e+00],\n",
       "       [4.891e+03, 1.000e+00],\n",
       "       [4.914e+03, 1.000e+00],\n",
       "       [4.918e+03, 1.000e+00],\n",
       "       [4.932e+03, 1.000e+00],\n",
       "       [4.944e+03, 1.000e+00],\n",
       "       [4.948e+03, 1.000e+00],\n",
       "       [4.964e+03, 1.000e+00],\n",
       "       [4.975e+03, 1.000e+00],\n",
       "       [5.001e+03, 1.000e+00],\n",
       "       [5.002e+03, 1.000e+00],\n",
       "       [5.072e+03, 1.000e+00],\n",
       "       [5.135e+03, 1.000e+00],\n",
       "       [5.199e+03, 1.000e+00],\n",
       "       [5.353e+03, 1.000e+00],\n",
       "       [5.358e+03, 1.000e+00],\n",
       "       [5.361e+03, 1.000e+00],\n",
       "       [5.489e+03, 1.000e+00],\n",
       "       [5.495e+03, 1.000e+00],\n",
       "       [5.505e+03, 1.000e+00],\n",
       "       [5.530e+03, 1.000e+00],\n",
       "       [5.578e+03, 1.000e+00],\n",
       "       [5.583e+03, 1.000e+00],\n",
       "       [5.588e+03, 1.000e+00],\n",
       "       [5.599e+03, 1.000e+00],\n",
       "       [5.641e+03, 1.000e+00],\n",
       "       [5.643e+03, 1.000e+00],\n",
       "       [5.650e+03, 1.000e+00],\n",
       "       [5.661e+03, 1.000e+00],\n",
       "       [5.702e+03, 1.000e+00],\n",
       "       [5.728e+03, 1.000e+00],\n",
       "       [5.752e+03, 1.000e+00],\n",
       "       [5.753e+03, 1.000e+00],\n",
       "       [5.755e+03, 1.000e+00],\n",
       "       [5.775e+03, 1.000e+00]])"
      ]
     },
     "execution_count": 11,
     "metadata": {},
     "output_type": "execute_result"
    }
   ],
   "source": [
    "events.time"
   ]
  },
  {
   "cell_type": "code",
   "execution_count": 12,
   "id": "fcc2c653-f234-46ce-bbd9-a13fa01d977d",
   "metadata": {},
   "outputs": [],
   "source": [
    "numpy.random.seed(100)"
   ]
  },
  {
   "cell_type": "code",
   "execution_count": 13,
   "id": "e0422470-af63-47a0-ba5b-40d0e2975824",
   "metadata": {},
   "outputs": [
    {
     "name": "stderr",
     "output_type": "stream",
     "text": [
      "/tmp/ipykernel_3204526/489981337.py:1: DeprecationWarning: This function is deprecated. Use Knox\n",
      "  result = knox(events.space, events.t, delta=20, tau=5, permutations=99)\n"
     ]
    }
   ],
   "source": [
    "result = knox(events.space, events.t, delta=20, tau=5, permutations=99)"
   ]
  },
  {
   "cell_type": "code",
   "execution_count": 14,
   "id": "2b7576e8-42dc-4fed-841f-bab6d105d557",
   "metadata": {},
   "outputs": [
    {
     "data": {
      "text/plain": [
       "{'stat': 13, 'pvalue': array([0.17])}"
      ]
     },
     "execution_count": 14,
     "metadata": {},
     "output_type": "execute_result"
    }
   ],
   "source": [
    "result"
   ]
  },
  {
   "cell_type": "code",
   "execution_count": 15,
   "id": "4c0fe4ab-8884-4709-9b43-683b1ac14eb0",
   "metadata": {},
   "outputs": [
    {
     "data": {
      "text/plain": [
       "(188, 2)"
      ]
     },
     "execution_count": 15,
     "metadata": {},
     "output_type": "execute_result"
    }
   ],
   "source": [
    "events.space.shape"
   ]
  },
  {
   "cell_type": "code",
   "execution_count": 16,
   "id": "082197b3-a7cc-4829-8e74-045943e28675",
   "metadata": {},
   "outputs": [
    {
     "data": {
      "text/plain": [
       "(188, 1)"
      ]
     },
     "execution_count": 16,
     "metadata": {},
     "output_type": "execute_result"
    }
   ],
   "source": [
    "events.t.shape"
   ]
  },
  {
   "cell_type": "markdown",
   "id": "50ea59b1-d82f-4fbf-97b0-55aac4ead2b4",
   "metadata": {},
   "source": [
    "## New Implementation\n",
    "\n",
    "- Global Knox with analytical inference\n",
    "- Global Knox with space/time distance queries\n",
    "- Local Knox with analytical inference\n",
    "- Local Knox with conditional permutations\n",
    "- Better Reporting"
   ]
  },
  {
   "cell_type": "code",
   "execution_count": 17,
   "id": "4d60c4c9-95ee-42c3-b458-bfce15315292",
   "metadata": {},
   "outputs": [],
   "source": [
    "import geopandas"
   ]
  },
  {
   "cell_type": "code",
   "execution_count": 18,
   "id": "2653a3e2-af07-431e-9001-2f0d0f55cc9f",
   "metadata": {},
   "outputs": [],
   "source": [
    "df = geopandas.read_file(path)"
   ]
  },
  {
   "cell_type": "code",
   "execution_count": 19,
   "id": "d44e2752-1711-492c-819e-ce621db4ad70",
   "metadata": {},
   "outputs": [
    {
     "data": {
      "text/html": [
       "<div>\n",
       "<style scoped>\n",
       "    .dataframe tbody tr th:only-of-type {\n",
       "        vertical-align: middle;\n",
       "    }\n",
       "\n",
       "    .dataframe tbody tr th {\n",
       "        vertical-align: top;\n",
       "    }\n",
       "\n",
       "    .dataframe thead th {\n",
       "        text-align: right;\n",
       "    }\n",
       "</style>\n",
       "<table border=\"1\" class=\"dataframe\">\n",
       "  <thead>\n",
       "    <tr style=\"text-align: right;\">\n",
       "      <th></th>\n",
       "      <th>ID</th>\n",
       "      <th>X</th>\n",
       "      <th>Y</th>\n",
       "      <th>T</th>\n",
       "      <th>AGE</th>\n",
       "      <th>DATE</th>\n",
       "      <th>geometry</th>\n",
       "    </tr>\n",
       "  </thead>\n",
       "  <tbody>\n",
       "    <tr>\n",
       "      <th>0</th>\n",
       "      <td>1.0</td>\n",
       "      <td>300.0</td>\n",
       "      <td>302.0</td>\n",
       "      <td>413.0</td>\n",
       "      <td>22.0</td>\n",
       "      <td>1901-02-16</td>\n",
       "      <td>POINT (300.000 302.000)</td>\n",
       "    </tr>\n",
       "    <tr>\n",
       "      <th>1</th>\n",
       "      <td>2.0</td>\n",
       "      <td>291.0</td>\n",
       "      <td>270.0</td>\n",
       "      <td>472.0</td>\n",
       "      <td>5.0</td>\n",
       "      <td>1901-04-16</td>\n",
       "      <td>POINT (291.000 270.000)</td>\n",
       "    </tr>\n",
       "    <tr>\n",
       "      <th>2</th>\n",
       "      <td>3.0</td>\n",
       "      <td>326.0</td>\n",
       "      <td>263.0</td>\n",
       "      <td>511.0</td>\n",
       "      <td>12.0</td>\n",
       "      <td>1901-05-25</td>\n",
       "      <td>POINT (326.000 263.000)</td>\n",
       "    </tr>\n",
       "    <tr>\n",
       "      <th>3</th>\n",
       "      <td>4.0</td>\n",
       "      <td>299.0</td>\n",
       "      <td>376.0</td>\n",
       "      <td>689.0</td>\n",
       "      <td>6.0</td>\n",
       "      <td>1901-11-19</td>\n",
       "      <td>POINT (299.000 376.000)</td>\n",
       "    </tr>\n",
       "    <tr>\n",
       "      <th>4</th>\n",
       "      <td>5.0</td>\n",
       "      <td>267.0</td>\n",
       "      <td>327.0</td>\n",
       "      <td>730.0</td>\n",
       "      <td>4.0</td>\n",
       "      <td>1901-12-30</td>\n",
       "      <td>POINT (267.000 327.000)</td>\n",
       "    </tr>\n",
       "  </tbody>\n",
       "</table>\n",
       "</div>"
      ],
      "text/plain": [
       "    ID      X      Y      T   AGE        DATE                 geometry\n",
       "0  1.0  300.0  302.0  413.0  22.0  1901-02-16  POINT (300.000 302.000)\n",
       "1  2.0  291.0  270.0  472.0   5.0  1901-04-16  POINT (291.000 270.000)\n",
       "2  3.0  326.0  263.0  511.0  12.0  1901-05-25  POINT (326.000 263.000)\n",
       "3  4.0  299.0  376.0  689.0   6.0  1901-11-19  POINT (299.000 376.000)\n",
       "4  5.0  267.0  327.0  730.0   4.0  1901-12-30  POINT (267.000 327.000)"
      ]
     },
     "execution_count": 19,
     "metadata": {},
     "output_type": "execute_result"
    }
   ],
   "source": [
    "df.head()"
   ]
  },
  {
   "cell_type": "code",
   "execution_count": 20,
   "id": "10469df1-d859-4652-a0c2-0ee5468110b4",
   "metadata": {},
   "outputs": [
    {
     "data": {
      "text/plain": [
       "<Axes: >"
      ]
     },
     "execution_count": 20,
     "metadata": {},
     "output_type": "execute_result"
    },
    {
     "data": {
      "image/png": "[encoded data removed]",
      "text/plain": [
       "<Figure size 640x480 with 1 Axes>"
      ]
     },
     "metadata": {},
     "output_type": "display_data"
    }
   ],
   "source": [
    "df.plot()"
   ]
  },
  {
   "cell_type": "code",
   "execution_count": 21,
   "id": "8fde7933-82b4-41db-99b0-90bac7481c49",
   "metadata": {},
   "outputs": [],
   "source": [
    "from pointpats.spacetime import Knox"
   ]
  },
  {
   "cell_type": "code",
   "execution_count": 22,
   "id": "4b5e2057-39b2-4b9b-aafc-e16758558578",
   "metadata": {},
   "outputs": [],
   "source": [
    "results = Knox(df[['X', 'Y']], df[[\"T\"]], delta=20, tau=5)"
   ]
  },
  {
   "cell_type": "code",
   "execution_count": 23,
   "id": "57c4ea44-538c-42d5-9b04-71e3ccb1619f",
   "metadata": {},
   "outputs": [
    {
     "data": {
      "text/plain": [
       "13"
      ]
     },
     "execution_count": 23,
     "metadata": {},
     "output_type": "execute_result"
    }
   ],
   "source": [
    "results.statistic_"
   ]
  },
  {
   "cell_type": "code",
   "execution_count": 24,
   "id": "48d141cc-b604-419d-bfc5-9ff46696e1d4",
   "metadata": {},
   "outputs": [
    {
     "data": {
      "text/plain": [
       "0.28"
      ]
     },
     "execution_count": 24,
     "metadata": {},
     "output_type": "execute_result"
    }
   ],
   "source": [
    "results.p_sim"
   ]
  },
  {
   "cell_type": "code",
   "execution_count": 25,
   "id": "f8951730-4f33-47f2-8936-d459046b5778",
   "metadata": {},
   "outputs": [
    {
     "data": {
      "text/plain": [
       "0.14624558197140414"
      ]
     },
     "execution_count": 25,
     "metadata": {},
     "output_type": "execute_result"
    }
   ],
   "source": [
    "results.p_poisson"
   ]
  },
  {
   "cell_type": "code",
   "execution_count": 26,
   "id": "7b67a026-0b33-4a20-9394-bc07f8c964e4",
   "metadata": {},
   "outputs": [],
   "source": [
    "numpy.random.seed(123456)\n",
    "results = Knox(df[['X', 'Y']], df[[\"T\"]], delta=20, tau=5,keep=True)"
   ]
  },
  {
   "cell_type": "code",
   "execution_count": 27,
   "id": "2b8f3e5c-2fe4-49da-999f-f56002e5a2f4",
   "metadata": {},
   "outputs": [
    {
     "data": {
      "text/plain": [
       "array([[1.300e+01, 3.416e+03],\n",
       "       [3.900e+01, 1.411e+04]])"
      ]
     },
     "execution_count": 27,
     "metadata": {},
     "output_type": "execute_result"
    }
   ],
   "source": [
    "results.observed"
   ]
  },
  {
   "cell_type": "code",
   "execution_count": 28,
   "id": "cc201594-dc3d-40d5-8958-7eea166ca3c7",
   "metadata": {},
   "outputs": [
    {
     "data": {
      "text/plain": [
       "array([[1.01438161e+01, 3.41885618e+03],\n",
       "       [4.18561839e+01, 1.41071438e+04]])"
      ]
     },
     "execution_count": 28,
     "metadata": {},
     "output_type": "execute_result"
    }
   ],
   "source": [
    "results.expected"
   ]
  },
  {
   "cell_type": "code",
   "execution_count": 29,
   "id": "43185747-b6ae-4381-aa22-2401933c8d30",
   "metadata": {},
   "outputs": [
    {
     "data": {
      "text/plain": [
       "True"
      ]
     },
     "execution_count": 29,
     "metadata": {},
     "output_type": "execute_result"
    }
   ],
   "source": [
    "results.keep"
   ]
  },
  {
   "cell_type": "code",
   "execution_count": 30,
   "id": "fc52cc8f-6e23-406b-8f8d-4c9d2b3b5dd5",
   "metadata": {},
   "outputs": [
    {
     "data": {
      "text/plain": [
       "0.24"
      ]
     },
     "execution_count": 30,
     "metadata": {},
     "output_type": "execute_result"
    }
   ],
   "source": [
    "results.p_sim"
   ]
  },
  {
   "cell_type": "code",
   "execution_count": 31,
   "id": "c43b4594-8d3f-4a9b-b10f-0faa7ee44d09",
   "metadata": {},
   "outputs": [],
   "source": [
    "results = Knox(df[['X', 'Y']], df[[\"T\"]], delta=20, tau=5, keep=True)"
   ]
  },
  {
   "cell_type": "code",
   "execution_count": 32,
   "id": "222cd0e9-2b19-4bd0-a436-a45ed3fa80ce",
   "metadata": {},
   "outputs": [
    {
     "data": {
      "text/plain": [
       "True"
      ]
     },
     "execution_count": 32,
     "metadata": {},
     "output_type": "execute_result"
    }
   ],
   "source": [
    "hasattr(results, \"sim\")"
   ]
  },
  {
   "cell_type": "code",
   "execution_count": 33,
   "id": "b96c1cfd-1a80-469f-9257-19356109dc70",
   "metadata": {},
   "outputs": [
    {
     "data": {
      "text/plain": [
       "array([16., 10., 13.,  7., 10.,  9.,  8., 10., 10.,  9.,  7., 14.,  9.,\n",
       "       11., 11., 13.,  8.,  9.,  8.,  8.,  8.,  7.,  8., 13.,  8., 12.,\n",
       "       10., 11.,  9., 12.,  8.,  6.,  9., 11., 12., 16., 14., 11., 13.,\n",
       "       12., 11.,  8., 13.,  7., 10.,  4.,  8., 14.,  9., 12., 12.,  6.,\n",
       "        8., 10.,  8.,  9.,  7.,  8., 11., 12., 10., 17., 10.,  8., 12.,\n",
       "       13.,  9.,  8.,  9., 10., 11.,  6., 10., 13., 17., 11.,  8.,  8.,\n",
       "       10.,  7., 10.,  9., 13., 10.,  7., 13.,  6.,  9., 11.,  9., 14.,\n",
       "       14.,  6., 11., 13., 12., 10., 10., 11.])"
      ]
     },
     "execution_count": 33,
     "metadata": {},
     "output_type": "execute_result"
    }
   ],
   "source": [
    "results.sim"
   ]
  },
  {
   "cell_type": "code",
   "execution_count": 35,
   "id": "06145a2b-6c8f-4cc7-abaa-e840cdabb197",
   "metadata": {},
   "outputs": [],
   "source": [
    "from pointpats.spacetime import KnoxLocal\n",
    "numpy.random.seed(12345)"
   ]
  },
  {
   "cell_type": "code",
   "execution_count": 36,
   "id": "1d8a9059-c1d2-428b-a58a-cdd1658ab150",
   "metadata": {},
   "outputs": [],
   "source": [
    "lres = results = KnoxLocal(df[['X', 'Y']], df[[\"T\"]], delta=20, tau=5)"
   ]
  },
  {
   "cell_type": "code",
   "execution_count": 37,
   "id": "aff0fa64-dda0-41ca-a614-1254273ed136",
   "metadata": {},
   "outputs": [
    {
     "data": {
      "text/plain": [
       "(188,)"
      ]
     },
     "execution_count": 37,
     "metadata": {},
     "output_type": "execute_result"
    }
   ],
   "source": [
    "lres.statistic_.shape"
   ]
  },
  {
   "cell_type": "code",
   "execution_count": 38,
   "id": "02a8b0ef-daf3-4cd6-afe4-2d0a791a0942",
   "metadata": {},
   "outputs": [
    {
     "data": {
      "text/plain": [
       "(array([ 25,  26,  30,  31,  35,  36,  41,  42,  46,  47,  51,  52, 102,\n",
       "        103, 116, 118, 122, 123, 137, 138, 139, 140, 158, 159, 162, 163]),)"
      ]
     },
     "execution_count": 38,
     "metadata": {},
     "output_type": "execute_result"
    }
   ],
   "source": [
    "gt0ids = numpy.where(lres.nsti>0)\n",
    "gt0ids"
   ]
  },
  {
   "cell_type": "code",
   "execution_count": 39,
   "id": "0e9b36af-e7f9-44d5-9c28-e6b9fc49f675",
   "metadata": {},
   "outputs": [
    {
     "data": {
      "text/plain": [
       "array([1., 1., 1., 1., 1., 1., 1., 1., 1., 1., 1., 1., 1., 1., 1., 1., 1.,\n",
       "       1., 1., 1., 1., 1., 1., 1., 1., 1.])"
      ]
     },
     "execution_count": 39,
     "metadata": {},
     "output_type": "execute_result"
    }
   ],
   "source": [
    "lres.nsti[gt0ids]"
   ]
  },
  {
   "cell_type": "code",
   "execution_count": 40,
   "id": "aa74c51b-2a2d-4992-b244-6031aef4e6af",
   "metadata": {},
   "outputs": [
    {
     "data": {
      "text/plain": [
       "array([0.1348993 , 0.14220663, 0.07335085, 0.08400282, 0.1494317 ,\n",
       "       0.21524073, 0.0175806 , 0.04599869, 0.17523687, 0.18209188,\n",
       "       0.19111321, 0.16830444, 0.13734428, 0.14703242, 0.06796364,\n",
       "       0.03192559, 0.13734428, 0.17523687, 0.12998154, 0.1933476 ,\n",
       "       0.13244507, 0.13244507, 0.12502644, 0.14703242, 0.12502644,\n",
       "       0.12998154])"
      ]
     },
     "execution_count": 40,
     "metadata": {},
     "output_type": "execute_result"
    }
   ],
   "source": [
    "lres.p_hypergeom[gt0ids]"
   ]
  },
  {
   "cell_type": "code",
   "execution_count": 41,
   "id": "f252aad8-e872-4217-9549-c644da41b4c4",
   "metadata": {},
   "outputs": [
    {
     "data": {
      "text/plain": [
       "array([0.3 , 0.33, 0.11, 0.17, 0.3 , 0.42, 0.06, 0.06, 0.33, 0.34, 0.36,\n",
       "       0.38, 0.3 , 0.29, 0.41, 0.19, 0.31, 0.39, 0.18, 0.39, 0.48, 0.41,\n",
       "       0.22, 0.41, 0.39, 0.32])"
      ]
     },
     "execution_count": 41,
     "metadata": {},
     "output_type": "execute_result"
    }
   ],
   "source": [
    "lres.p_sims[gt0ids]"
   ]
  },
  {
   "cell_type": "code",
   "execution_count": null,
   "id": "f6377b09-2b94-4fd3-9f85-9c378c015464",
   "metadata": {},
   "outputs": [],
   "source": []
  }
 ],
 "metadata": {
  "kernelspec": {
   "display_name": "Python 3 (ipykernel)",
   "language": "python",
   "name": "python3"
  },
  "language_info": {
   "codemirror_mode": {
    "name": "ipython",
    "version": 3
   },
   "file_extension": ".py",
   "mimetype": "text/x-python",
   "name": "python",
   "nbconvert_exporter": "python",
   "pygments_lexer": "ipython3",
   "version": "3.11.4"
  }
 },
 "nbformat": 4,
 "nbformat_minor": 5
}
